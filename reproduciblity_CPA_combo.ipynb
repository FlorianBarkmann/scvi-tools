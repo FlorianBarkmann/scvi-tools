{
 "cells": [
  {
   "cell_type": "markdown",
   "id": "b9d71a07-0291-4eb1-bb03-b2f3c2a8fac9",
   "metadata": {},
   "source": [
    "# Imports"
   ]
  },
  {
   "cell_type": "code",
   "execution_count": null,
   "id": "c4aed60f-c90f-4fc6-9d2f-e4f28c0be27f",
   "metadata": {},
   "outputs": [],
   "source": [
    "from scvi.external import CPA\n",
    "from scvi.external.cpa import register_dataset\n",
    "from scvi.data import setup_anndata\n",
    "from scvi.distributions import NegativeBinomial\n",
    "\n",
    "import torch\n",
    "import numpy as np\n",
    "import pandas as pd\n",
    "import anndata as ad\n",
    "import plotnine as p9\n",
    "import scanpy as sc\n",
    "from tqdm import tqdm\n",
    "import matplotlib.pyplot as plt\n",
    "import os"
   ]
  },
  {
   "cell_type": "code",
   "execution_count": null,
   "id": "53ffe5d7-1220-49d5-9cd0-3c7a30760bb7",
   "metadata": {},
   "outputs": [],
   "source": [
    "adata = sc.read('/data/yosef2/users/pierreboyeau/CPA/datasets/Norman2019_prep_new.h5ad')"
   ]
  },
  {
   "cell_type": "code",
   "execution_count": null,
   "id": "b33a04ac-bd8e-4535-80cc-760afaf1ce2e",
   "metadata": {},
   "outputs": [],
   "source": [
    "keys = {\n",
    "    'cell_type_key': 'cell_type',\n",
    "    'dose_key': 'dose_val',\n",
    "    'doser_type': 'linear',\n",
    "    'perturbation_key': 'condition',\n",
    "    'split_key': 'split1',\n",
    "    \"treatments_key\": \"treatments\",\n",
    "}"
   ]
  },
  {
   "cell_type": "code",
   "execution_count": null,
   "id": "0719cd8f-0d7b-4f9b-9c66-c4e393aabda5",
   "metadata": {},
   "outputs": [],
   "source": [
    "conditions = adata.obs[keys[\"perturbation_key\"]]\n",
    "dosages = adata.obs[keys[\"dose_key\"]].values\n",
    "codes = conditions.cat.categories.str.split(\"+\")\n",
    "\n",
    "# Get list of unique drugs\n",
    "unfolded_codes = []\n",
    "for code in codes:\n",
    "    unfolded_codes += code\n",
    "unfolded_codes = np.array(unfolded_codes)\n",
    "codes_list = np.unique(unfolded_codes)\n",
    "\n",
    "# Construct matrix representation of drugs\n",
    "n_drugs = codes_list.shape[0]\n",
    "n_cells = conditions.shape[0]\n",
    "drugs_obsm = np.zeros((n_cells, n_drugs))\n",
    "for i in tqdm(range(n_cells)):\n",
    "    cell_drugs = np.isin(codes_list, conditions[i].split(\"+\"))\n",
    "    cell_doses = np.array(dosages[i].split(\"+\")).astype(float)\n",
    "    drugs_obsm[i, cell_drugs] = cell_doses"
   ]
  },
  {
   "cell_type": "code",
   "execution_count": null,
   "id": "89e0caba-27f3-4a30-9894-35cf1d9e9101",
   "metadata": {},
   "outputs": [],
   "source": [
    "adata.obsm[keys[\"treatments_key\"]] = drugs_obsm"
   ]
  },
  {
   "cell_type": "code",
   "execution_count": null,
   "id": "3eb94d00-72c5-4a84-a57c-509fdb0675de",
   "metadata": {},
   "outputs": [],
   "source": [
    "import torch\n",
    "from compert.train import prepare_compert\n",
    "\n",
    "state, args, metrics = torch.load('/data/yosef2/users/pierreboyeau/CPA//pretrained_models/Norman2019_prep_new_deg_collect/relu/sweep_Norman2019_prep_new_relu_split1_model_seed=16_epoch=80.pt', map_location=torch.device('cpu'))\n"
   ]
  },
  {
   "cell_type": "markdown",
   "id": "a09e5771-f4c4-4183-8c8b-80a68889f855",
   "metadata": {},
   "source": [
    "# Model"
   ]
  },
  {
   "cell_type": "code",
   "execution_count": null,
   "id": "aceb3394-4927-4384-ac89-ab9f23d3ee35",
   "metadata": {},
   "outputs": [],
   "source": [
    "setup_anndata(adata)\n",
    "batch_keys_to_dim = register_dataset(\n",
    "    adata,\n",
    "    treatments_key=keys[\"treatments_key\"],\n",
    "    cat_keys=[keys[\"cell_type_key\"]],\n",
    ")"
   ]
  },
  {
   "cell_type": "code",
   "execution_count": null,
   "id": "8f6ee400-422b-4c68-9678-f92dcb8d63b1",
   "metadata": {},
   "outputs": [],
   "source": [
    "module_kwargs = {\n",
    "    'autoencoder_depth': 3,\n",
    "    'autoencoder_width': 256,\n",
    "    'doser': 'linear',\n",
    "}\n",
    "\n",
    "plan_kwargs = {\n",
    "    'adversary_depth': 4,\n",
    "    'adversary_lr': 0.00010436428115895668,\n",
    "    'adversary_steps': 5,\n",
    "    'adversary_wd': 0.00020547590628803208,\n",
    "    'adversary_width': 128,\n",
    "    'autoencoder_wd': 1.2089626892966399e-05,\n",
    "    'penalty_adversary': 0.26161136412599345,\n",
    "    'reg_adversary': 58.64779813400515,\n",
    "    'step_size_lr': 25,\n",
    "    'lr': 0.0002333608728691712,\n",
    "}\n",
    "\n",
    "trainer_kwargs = {\n",
    "    'max_epochs': 1,\n",
    "    'early_stopping_patience': 20,\n",
    "    'batch_size': 128,\n",
    "}"
   ]
  },
  {
   "cell_type": "code",
   "execution_count": null,
   "id": "9689d1df-f00b-4c71-aeec-ae26481bdaa9",
   "metadata": {},
   "outputs": [],
   "source": [
    "# from pytorch_lightning.profiler import AdvancedProfiler\n",
    "\n",
    "# profiler = AdvancedProfiler(output_filename=\"profiler1.p\")"
   ]
  },
  {
   "cell_type": "code",
   "execution_count": null,
   "id": "656bac3d-a9ad-42cb-adb9-605e45bf550f",
   "metadata": {},
   "outputs": [],
   "source": [
    "model = CPA(\n",
    "    adata=adata,\n",
    "    batch_keys_to_dim=batch_keys_to_dim,\n",
    "    split_key=\"split\",\n",
    "    **module_kwargs,\n",
    ")\n",
    "model.train(\n",
    "    early_stopping_monitor=\"reconstruction_loss_validation\",\n",
    "    plan_kwargs=plan_kwargs,\n",
    "#     profiler=profiler,\n",
    "    **trainer_kwargs,\n",
    ")"
   ]
  },
  {
   "cell_type": "code",
   "execution_count": null,
   "id": "bd64c391-4ec1-48a8-a149-1c4c1f28f41d",
   "metadata": {},
   "outputs": [],
   "source": [
    "# return self.dosers(drugs) @ self.drug_embeddings.weight"
   ]
  },
  {
   "cell_type": "code",
   "execution_count": null,
   "id": "d99b0e5d-5485-4207-b4bb-a440d9292f0c",
   "metadata": {},
   "outputs": [],
   "source": [
    "fig, axes = plt.subplots(ncols=3, figsize=(10, 3))\n",
    "model.history[\"adv_loss_train\"].plot(ax=axes[0])\n",
    "model.history[\"adv_penalty_train\"].plot(ax=axes[1])\n",
    "model.history[\"reconstruction_loss_train\"].plot(ax=axes[2])"
   ]
  },
  {
   "cell_type": "markdown",
   "id": "4506e1bf-9ad2-442e-920c-de5c2674b6e7",
   "metadata": {},
   "source": [
    "# Analysis"
   ]
  },
  {
   "cell_type": "markdown",
   "id": "35e9dc7c-5f0a-4fdc-a828-97499d2a440f",
   "metadata": {},
   "source": [
    "### Basic predictions"
   ]
  },
  {
   "cell_type": "code",
   "execution_count": null,
   "id": "455d7cf5-67f5-4b5f-81b9-eb054f9953b9",
   "metadata": {},
   "outputs": [],
   "source": []
  }
 ],
 "metadata": {
  "kernelspec": {
   "display_name": "Python 3 (ipykernel)",
   "language": "python",
   "name": "python3"
  },
  "language_info": {
   "codemirror_mode": {
    "name": "ipython",
    "version": 3
   },
   "file_extension": ".py",
   "mimetype": "text/x-python",
   "name": "python",
   "nbconvert_exporter": "python",
   "pygments_lexer": "ipython3",
   "version": "3.8.10"
  }
 },
 "nbformat": 4,
 "nbformat_minor": 5
}
