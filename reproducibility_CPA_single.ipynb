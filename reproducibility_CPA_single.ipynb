{
 "cells": [
  {
   "cell_type": "markdown",
   "id": "53f04f5c-9d3e-469b-b589-2ad30bbb4b3c",
   "metadata": {},
   "source": [
    "# Imports"
   ]
  },
  {
   "cell_type": "code",
   "execution_count": 1,
   "id": "dfea9fb9-f6e1-4d67-bd2f-f8064f78ec76",
   "metadata": {},
   "outputs": [],
   "source": [
    "from scvi.external import CPA\n",
    "from scvi.external.cpa import register_dataset\n",
    "from scvi.data import setup_anndata\n",
    "from scvi.distributions import NegativeBinomial\n",
    "\n",
    "import torch\n",
    "import numpy as np\n",
    "import pandas as pd\n",
    "import anndata as ad\n",
    "import plotnine as p9\n",
    "import scanpy as sc\n",
    "import matplotlib.pyplot as plt\n",
    "import os"
   ]
  },
  {
   "cell_type": "markdown",
   "id": "3525c08b-6661-4927-bef4-601e2c27bb5f",
   "metadata": {},
   "source": [
    "# Loading dataset"
   ]
  },
  {
   "cell_type": "code",
   "execution_count": 2,
   "id": "0e16c253-3e5d-4f1f-888c-f64c9d5b7497",
   "metadata": {},
   "outputs": [],
   "source": [
    "filepath = \"/data/yosef2/users/pierreboyeau/CPA/datasets/GSM_new.h5ad\""
   ]
  },
  {
   "cell_type": "code",
   "execution_count": 3,
   "id": "6ddaad31-7574-4b59-94ba-0ab91b99691b",
   "metadata": {},
   "outputs": [],
   "source": [
    "dataset = sc.read_h5ad(filepath)"
   ]
  },
  {
   "cell_type": "code",
   "execution_count": 4,
   "id": "8d6224b0-cf52-435e-9150-87c0844a8102",
   "metadata": {},
   "outputs": [],
   "source": [
    "keys = {\n",
    "    'perturbation_key': 'condition',\n",
    "    'dose_key': 'dose_val',\n",
    "    'cell_type_key': 'cell_type',\n",
    "    'split_key': 'split',\n",
    "     \"treatments_key\": \"treatments\"\n",
    "} \n"
   ]
  },
  {
   "cell_type": "code",
   "execution_count": 5,
   "id": "f88d9bb5-5225-4179-8d47-ade3cf8a599f",
   "metadata": {},
   "outputs": [],
   "source": [
    "conditions = dataset.obs[keys[\"perturbation_key\"]]\n",
    "dosages = dataset.obs[keys[\"dose_key\"]].values.astype(float)\n",
    "codes = conditions.cat.codes.values\n",
    "\n",
    "n_drugs = conditions.unique().shape[0]\n",
    "n_cells = conditions.shape[0]\n",
    "drugs_obsm = np.zeros((n_cells, n_drugs))\n",
    "drugs_obsm[np.arange(n_cells), codes] = dosages"
   ]
  },
  {
   "cell_type": "code",
   "execution_count": 6,
   "id": "fad0ba09-d67e-4754-a66f-bdb4530b6b30",
   "metadata": {},
   "outputs": [],
   "source": [
    "dataset.obsm[keys[\"treatments_key\"]] = drugs_obsm"
   ]
  },
  {
   "cell_type": "code",
   "execution_count": 7,
   "id": "7c101cf8-4d76-437c-a0d4-00b25cd79d6c",
   "metadata": {},
   "outputs": [],
   "source": [
    "model_name = '/data/yosef2/users/pierreboyeau/CPA/pretrained_models/GSM/sweep_GSM_new_logsigm_model_seed=60_epoch=1120.pt'\n",
    "state, args, history = torch.load(model_name, map_location=torch.device('cpu'))\n",
    "\n",
    "args[\"dataset_path\"] = os.path.join(\"/data/yosef2/users/pierreboyeau/CPA\", 'datasets/GSM_new.h5ad')\n",
    "\n",
    "from compert.data import load_dataset_splits\n",
    "\n",
    "datasets = load_dataset_splits(\n",
    "    args[\"dataset_path\"],\n",
    "    args[\"perturbation_key\"],\n",
    "    args[\"dose_key\"],\n",
    "    args[\"cell_type_key\"],\n",
    "    args[\"split_key\"]\n",
    ")"
   ]
  },
  {
   "cell_type": "code",
   "execution_count": 8,
   "id": "316880fa-1a3e-4967-8d00-a71ad6ea7f20",
   "metadata": {},
   "outputs": [
    {
     "data": {
      "text/plain": [
       "{'training': <compert.data.SubDataset at 0x7fcdd23d4f40>,\n",
       " 'training_control': <compert.data.SubDataset at 0x7fcdd23d4e20>,\n",
       " 'training_treated': <compert.data.SubDataset at 0x7fcdd23d4670>,\n",
       " 'test': <compert.data.SubDataset at 0x7fcdd131f8b0>,\n",
       " 'test_control': <compert.data.SubDataset at 0x7fcdd07ee220>,\n",
       " 'test_treated': <compert.data.SubDataset at 0x7fcdd07ee370>,\n",
       " 'ood': <compert.data.SubDataset at 0x7fcdd07ee1c0>}"
      ]
     },
     "execution_count": 8,
     "metadata": {},
     "output_type": "execute_result"
    }
   ],
   "source": [
    "datasets"
   ]
  },
  {
   "cell_type": "code",
   "execution_count": 9,
   "id": "ec5bd7ed-6c58-4942-8259-7186d7aba84b",
   "metadata": {},
   "outputs": [
    {
     "data": {
      "text/plain": [
       "<compert.data.SubDataset at 0x7fcdd23d4670>"
      ]
     },
     "execution_count": 9,
     "metadata": {},
     "output_type": "execute_result"
    }
   ],
   "source": [
    "datasets['training_treated']"
   ]
  },
  {
   "cell_type": "code",
   "execution_count": 10,
   "id": "c0229447-dcf8-4d98-bdd6-e9853bfcf889",
   "metadata": {},
   "outputs": [],
   "source": [
    "genes_control = datasets['training_control'].genes\n",
    "# df_train = compert_api.evaluate_r2(datasets['training_treated'], genes_control)\n",
    "# df_train['benchmark'] = 'CPA'\n"
   ]
  },
  {
   "cell_type": "code",
   "execution_count": 11,
   "id": "42571d0e-2c49-44d7-be81-221a0c7d58ab",
   "metadata": {},
   "outputs": [],
   "source": [
    "from sklearn.metrics import r2_score\n",
    "import pandas as pd\n",
    "import numpy as np\n",
    "\n",
    "\n",
    "def evaluate_r2(\n",
    "    args,\n",
    "    model,\n",
    "    dataset,\n",
    "    genes_control\n",
    "):\n",
    "    scores = pd.DataFrame(columns=[args[\"cell_type_key\"],\n",
    "                                    args[\"perturbation_key\"],\n",
    "                                    args[\"dose_key\"],\n",
    "                                    'R2_mean', 'R2_mean_DE', 'R2_var',\n",
    "                                    'R2_var_DE', 'num_cells'])\n",
    "\n",
    "    num, dim = genes_control.size(0), genes_control.size(1)\n",
    "\n",
    "    total_cells = len(dataset)\n",
    "    icond = 0\n",
    "    for pert_category in np.unique(dataset.pert_categories):\n",
    "        # pert_category category contains: 'celltype_perturbation_dose' info\n",
    "        de_idx = np.where(\n",
    "            dataset.var_names.isin(\n",
    "                np.array(dataset.de_genes[pert_category]\n",
    "                        )))[0]\n",
    "\n",
    "        idx = np.where(dataset.pert_categories == pert_category)[0]\n",
    "        if len(idx) > 0:\n",
    "            emb_drugs = dataset.drugs[idx][0].view(\n",
    "                1, -1).repeat(num, 1).clone()\n",
    "            emb_cts = dataset.cell_types[idx][0].view(\n",
    "                1, -1).repeat(num, 1).clone()\n",
    "            return (emb_drugs, emb_cts)\n",
    "            genes_predict = model.predict(\n",
    "                genes_control, emb_drugs, emb_cts).detach().cpu()\n",
    "\n",
    "            mean_predict = genes_predict[:, :dim]\n",
    "            var_predict = genes_predict[:, dim:]\n",
    "\n",
    "            # estimate metrics only for reasonably-sized drug/cell-type combos\n",
    "            y_true = dataset.genes[idx, :].numpy()\n",
    "\n",
    "            # true means and variances\n",
    "            yt_m = y_true.mean(axis=0)\n",
    "            yt_v = y_true.var(axis=0)\n",
    "            # predicted means and variances\n",
    "            yp_m = mean_predict.mean(0)\n",
    "            yp_v = var_predict.mean(0)\n",
    "\n",
    "            mean_score = r2_score(yt_m, yp_m)\n",
    "            var_score = r2_score(yt_v, yp_v)\n",
    "\n",
    "            mean_score_de = r2_score(yt_m[de_idx], yp_m[de_idx])\n",
    "            var_score_de = r2_score(yt_v[de_idx], yp_v[de_idx])\n",
    "            scores.loc[icond] = pert_category.split('_') +\\\n",
    "                [mean_score, mean_score_de, var_score, var_score_de, len(idx)]\n",
    "            icond += 1"
   ]
  },
  {
   "cell_type": "code",
   "execution_count": 12,
   "id": "5479dc09-8746-4b0e-8d5c-ac781de37242",
   "metadata": {},
   "outputs": [
    {
     "ename": "NameError",
     "evalue": "name 'model' is not defined",
     "output_type": "error",
     "traceback": [
      "\u001b[0;31m---------------------------------------------------------------------------\u001b[0m",
      "\u001b[0;31mNameError\u001b[0m                                 Traceback (most recent call last)",
      "\u001b[0;32m/tmp/ipykernel_30601/208399506.py\u001b[0m in \u001b[0;36m<module>\u001b[0;34m\u001b[0m\n\u001b[1;32m      1\u001b[0m returns = evaluate_r2(\n\u001b[0;32m----> 2\u001b[0;31m     \u001b[0margs\u001b[0m\u001b[0;34m,\u001b[0m \u001b[0mmodel\u001b[0m\u001b[0;34m,\u001b[0m \u001b[0mdataset\u001b[0m\u001b[0;34m=\u001b[0m\u001b[0mdatasets\u001b[0m\u001b[0;34m[\u001b[0m\u001b[0;34m'training_treated'\u001b[0m\u001b[0;34m]\u001b[0m\u001b[0;34m,\u001b[0m \u001b[0mgenes_control\u001b[0m\u001b[0;34m=\u001b[0m\u001b[0mgenes_control\u001b[0m\u001b[0;34m,\u001b[0m\u001b[0;34m\u001b[0m\u001b[0;34m\u001b[0m\u001b[0m\n\u001b[0m\u001b[1;32m      3\u001b[0m )\n",
      "\u001b[0;31mNameError\u001b[0m: name 'model' is not defined"
     ]
    }
   ],
   "source": [
    "returns = evaluate_r2(\n",
    "    args, model, dataset=datasets['training_treated'], genes_control=genes_control,\n",
    ")"
   ]
  },
  {
   "cell_type": "code",
   "execution_count": null,
   "id": "13a9409d-7306-49d8-bc10-0474d6f7fa5e",
   "metadata": {},
   "outputs": [],
   "source": [
    "returns[0].shape"
   ]
  },
  {
   "cell_type": "code",
   "execution_count": null,
   "id": "5ebf2ff3-e23d-41cb-9dd3-8170bc6531df",
   "metadata": {},
   "outputs": [],
   "source": [
    "returns[1].shape"
   ]
  },
  {
   "cell_type": "code",
   "execution_count": null,
   "id": "5de0e939-b99c-4d97-88fa-fa9f3e8a107b",
   "metadata": {},
   "outputs": [],
   "source": [
    "genes_control.shape"
   ]
  },
  {
   "cell_type": "code",
   "execution_count": null,
   "id": "404d85eb-8c92-4a3d-bdb9-46ff9436cd15",
   "metadata": {},
   "outputs": [],
   "source": [
    "# genes_control = datasets['test_control'].genes\n",
    "# df_ood = compert_api.evaluate_r2(datasets['ood'], genes_control)\n",
    "# df_ood['benchmark'] = 'CPA'\n"
   ]
  },
  {
   "cell_type": "code",
   "execution_count": null,
   "id": "9ad35b21-ff19-47f0-b500-8b83d9026faa",
   "metadata": {},
   "outputs": [],
   "source": [
    "# genes_control = datasets['test_control'].genes\n",
    "# df_test = compert_api.evaluate_r2(datasets['test_treated'], genes_control)\n",
    "# df_test['benchmark'] = 'CPA'\n"
   ]
  },
  {
   "cell_type": "code",
   "execution_count": null,
   "id": "423c9a56-ecfe-4874-b64b-a02488c01ba1",
   "metadata": {},
   "outputs": [],
   "source": [
    "# df_test = compert_api.evaluate_r2(datasets['test_treated'], genes_control)\n",
    "# df_test['benchmark'] = 'CPA'"
   ]
  },
  {
   "cell_type": "code",
   "execution_count": null,
   "id": "02b93fc9-0883-4cce-b0a4-66492148dcf2",
   "metadata": {},
   "outputs": [],
   "source": [
    "# df_ood['split'] = 'ood'\n",
    "# df_test['split'] ='test'\n",
    "# df_train['split'] ='train'"
   ]
  },
  {
   "cell_type": "code",
   "execution_count": null,
   "id": "68efe82c-dadd-415d-a108-175cb208e1ee",
   "metadata": {},
   "outputs": [],
   "source": [
    "# df_score = pd.concat([df_test, df_ood])\n",
    "# df_score.round(2).sort_values(by=['condition', 'R2_mean', 'R2_mean_DE'], ascending=False)"
   ]
  },
  {
   "cell_type": "code",
   "execution_count": null,
   "id": "ef26b64e-6597-41f4-b5e9-543ded8fbfd8",
   "metadata": {},
   "outputs": [],
   "source": [
    "# cols_print = ['condition', 'dose_val','R2_mean', 'R2_mean_DE', 'R2_var', 'split', 'num_cells']\n",
    "# df_score = df_score.round(2).sort_values(by=['condition', 'R2_mean', 'R2_mean_DE', 'R2_var'], ascending=False)\n",
    "# df_latex = df_score[cols_print].copy()\n",
    "# df_latex = df_latex.replace('ood', '\\textbf{ood}')\n",
    "# print(df_latex.to_latex(index=False, bold_rows=True, escape=False))"
   ]
  },
  {
   "cell_type": "markdown",
   "id": "dd6ac93a-4972-4e07-a973-44e15664c4c8",
   "metadata": {},
   "source": [
    "# Model"
   ]
  },
  {
   "cell_type": "code",
   "execution_count": null,
   "id": "39cb4d1b-6a5a-4385-8ffb-149ba01a92bc",
   "metadata": {},
   "outputs": [],
   "source": [
    "dataset.obs.split"
   ]
  },
  {
   "cell_type": "code",
   "execution_count": null,
   "id": "cae533bf-3d5c-4bec-9893-059a21acc961",
   "metadata": {},
   "outputs": [],
   "source": [
    "setup_anndata(dataset)\n",
    "batch_keys_to_dim = register_dataset(\n",
    "    dataset,\n",
    "    treatments_key=keys[\"treatments_key\"],\n",
    "    cat_keys=[keys[\"cell_type_key\"]],\n",
    ")"
   ]
  },
  {
   "cell_type": "code",
   "execution_count": null,
   "id": "05cd1fb7-1eb4-4afb-b0fa-b7d0a5e698ea",
   "metadata": {},
   "outputs": [],
   "source": [
    "module_kwargs = {\n",
    "  'autoencoder_depth': 4,\n",
    "  'autoencoder_width': 512,\n",
    "}\n",
    "\n",
    "plan_kwargs = {\n",
    "    'adversary_depth': 2,\n",
    "    'adversary_width': 64,\n",
    "    'lr': 0.0011941101979918824,\n",
    "    'penalty_adversary': 1.7904070562183636,\n",
    "    'reg_adversary': 99.42740742104243,\n",
    "    'adversary_lr': 0.0003097497089682243,\n",
    "    'adversary_wd': 1.7743997657773115e-05,\n",
    "    'autoencoder_wd': 8.75775474155043e-08,\n",
    "    'adversary_steps': 4,\n",
    "    'step_size_lr': 15,\n",
    "}\n",
    "\n",
    "trainer_kwargs = {\n",
    "    'max_epochs': 2000,\n",
    "    'early_stopping_patience': 20,\n",
    "    'batch_size': 128,\n",
    "}"
   ]
  },
  {
   "cell_type": "code",
   "execution_count": null,
   "id": "b2324440-57d7-4531-9230-6bd68fbeaaa2",
   "metadata": {},
   "outputs": [],
   "source": [
    "dataset.X.max()"
   ]
  },
  {
   "cell_type": "code",
   "execution_count": null,
   "id": "174e652d-2e1b-4151-8ad9-f4e9dc7aeedd",
   "metadata": {},
   "outputs": [],
   "source": [
    "model = CPA(\n",
    "    adata=dataset,\n",
    "    batch_keys_to_dim=batch_keys_to_dim,\n",
    "    split_key=\"split\",\n",
    "    **module_kwargs,\n",
    ")\n",
    "model.train(\n",
    "    early_stopping_monitor=\"reconstruction_loss_validation\",\n",
    "    plan_kwargs=plan_kwargs,\n",
    "    **trainer_kwargs,\n",
    ")"
   ]
  },
  {
   "cell_type": "code",
   "execution_count": null,
   "id": "0fd436cc-bdba-474e-be36-921eaf91aab7",
   "metadata": {},
   "outputs": [],
   "source": [
    "# return self.dosers(drugs) @ self.drug_embeddings.weight"
   ]
  },
  {
   "cell_type": "code",
   "execution_count": null,
   "id": "445bc8ab-9685-40bd-bd18-b00d6a86d157",
   "metadata": {},
   "outputs": [],
   "source": [
    "fig, axes = plt.subplots(ncols=3, figsize=(10, 3))\n",
    "model.history[\"adv_loss_train\"].plot(ax=axes[0])\n",
    "model.history[\"adv_penalty_train\"].plot(ax=axes[1])\n",
    "model.history[\"reconstruction_loss_train\"].plot(ax=axes[2])"
   ]
  },
  {
   "cell_type": "code",
   "execution_count": 31,
   "id": "c241deda-d854-44ba-b132-43b8c6fb8622",
   "metadata": {},
   "outputs": [
    {
     "data": {
      "text/plain": [
       "index\n",
       "A01_A01_RT_390     test\n",
       "A01_A01_RT_396      ood\n",
       "A01_A01_RT_400    train\n",
       "A01_A01_RT_401    train\n",
       "A01_A01_RT_402     test\n",
       "                  ...  \n",
       "H12_B02_RT_745    train\n",
       "H12_B02_RT_750      ood\n",
       "H12_B02_RT_752    train\n",
       "H12_B02_RT_753     test\n",
       "H12_B02_RT_761     test\n",
       "Name: split, Length: 14811, dtype: category\n",
       "Categories (3, object): ['ood', 'test', 'train']"
      ]
     },
     "execution_count": 31,
     "metadata": {},
     "output_type": "execute_result"
    }
   ],
   "source": [
    "dataset.obs[\"split\"]"
   ]
  },
  {
   "cell_type": "markdown",
   "id": "71b0abf7-2a55-4368-8ebf-91a23e437af1",
   "metadata": {},
   "source": [
    "# Analysis"
   ]
  },
  {
   "cell_type": "markdown",
   "id": "5117e4fd-aca8-4a2a-a2b4-00b76e1445c5",
   "metadata": {},
   "source": [
    "### Drug embeddings"
   ]
  },
  {
   "cell_type": "code",
   "execution_count": 32,
   "id": "b94bd567-2665-4d0a-933c-e1d1f6d3551c",
   "metadata": {},
   "outputs": [],
   "source": [
    "embeds = model.get_embeddings()"
   ]
  },
  {
   "cell_type": "code",
   "execution_count": 33,
   "id": "6912ec4e-2257-4666-bc05-cbecaadd72ae",
   "metadata": {},
   "outputs": [],
   "source": [
    "from sklearn.metrics.pairwise import cosine_similarity\n",
    "from sklearn.decomposition import KernelPCA\n",
    "import seaborn as sns\n",
    "\n",
    "\n",
    "def fast_dimred(emb, method='KernelPCA'):\n",
    "    \"\"\"\n",
    "    Takes high dimensional embeddings and produces a 2-dimensional representation\n",
    "    for plotting.\n",
    "    emb: np.array\n",
    "        Embeddings matrix.\n",
    "    method: str (default: 'KernelPCA')\n",
    "        Method for dimensionality reduction: KernelPCA, UMAPpre, UMAPcos, tSNE.\n",
    "        If None return first 2 dimensions of the embedding vector.\n",
    "    \"\"\"\n",
    "    if method is None:\n",
    "        return emb[:, :2]\n",
    "    elif method == 'KernelPCA':\n",
    "        similarity_matrix = cosine_similarity(emb)\n",
    "        np.fill_diagonal(similarity_matrix, 1.0)\n",
    "        X = KernelPCA(n_components=2, kernel=\"precomputed\")\\\n",
    "            .fit_transform(similarity_matrix)\n",
    "    else:\n",
    "        raise NotImplementedError\n",
    "\n",
    "    return X"
   ]
  },
  {
   "cell_type": "code",
   "execution_count": 34,
   "id": "fa5fd36f-9a1d-4549-8874-750539059566",
   "metadata": {},
   "outputs": [],
   "source": [
    "def plot_similarity(\n",
    "        emb,\n",
    "        labels=None,\n",
    "        col_dict=None,\n",
    "        fig_width=4,\n",
    "        fig_height=4,\n",
    "        cmap='coolwarm',\n",
    "        fmt='png',\n",
    "        fontsize=7,\n",
    "        file_format=None,\n",
    "        file_name=None\n",
    "    ):\n",
    "\n",
    "    # first we take construct similarity matrix\n",
    "    # add another similarity\n",
    "    similarity_matrix = cosine_similarity(emb)\n",
    "\n",
    "    df = pd.DataFrame(\n",
    "        similarity_matrix,\n",
    "        columns=labels,\n",
    "        index=labels,\n",
    "    )\n",
    "\n",
    "    if col_dict is None:\n",
    "        col_dict = get_colors(labels)\n",
    "\n",
    "    network_colors = pd.Series(df.columns, index=df.columns).map(col_dict)\n",
    "\n",
    "    sns_plot = sns.clustermap(\n",
    "        df,\n",
    "        cmap=cmap,\n",
    "        center=0,\n",
    "        row_colors=network_colors,\n",
    "        col_colors=network_colors,\n",
    "        mask=False,\n",
    "        metric='euclidean',\n",
    "        figsize=(fig_height, fig_width),\n",
    "        vmin=-1, vmax=1,\n",
    "        fmt=file_format\n",
    "    )\n",
    "\n",
    "    sns_plot.ax_heatmap.xaxis.set_tick_params(labelsize=fontsize)\n",
    "    sns_plot.ax_heatmap.yaxis.set_tick_params(labelsize=fontsize)\n",
    "    sns_plot.ax_heatmap.axis('equal')\n",
    "    sns_plot.cax.yaxis.set_tick_params(labelsize=fontsize)\n",
    "    \n",
    "def get_colors(\n",
    "    labels,\n",
    "    palette=None,\n",
    "    palette_name=None\n",
    "    ):\n",
    "    n_colors = len(labels)\n",
    "    if palette is None:\n",
    "        palette = get_palette(n_colors, palette_name)\n",
    "    col_dict = dict(zip(labels, palette[:n_colors]))\n",
    "    return col_dict\n",
    "\n",
    "def get_palette(\n",
    "        n_colors,\n",
    "        palette_name='Set1'\n",
    "    ):\n",
    "\n",
    "    try:\n",
    "        palette = sns.color_palette(palette_name)\n",
    "    except:\n",
    "        print('Palette not found. Using default palette tab10')\n",
    "        palette = sns.color_palette()\n",
    "    while len(palette) < n_colors:\n",
    "        palette += palette\n",
    "\n",
    "    return palette"
   ]
  },
  {
   "cell_type": "code",
   "execution_count": 35,
   "id": "2c25d9da-9fe2-42c1-b52e-891d70375b08",
   "metadata": {},
   "outputs": [],
   "source": [
    "embeds_pca = fast_dimred(embeds)"
   ]
  },
  {
   "cell_type": "code",
   "execution_count": 36,
   "id": "14732e16-bdc7-4670-b9f6-5cfc5a8189a6",
   "metadata": {},
   "outputs": [
    {
     "data": {
      "text/plain": [
       "array(['BMS', 'Dex', 'Nutlin', 'SAHA', 'Vehicle'], dtype=object)"
      ]
     },
     "execution_count": 36,
     "metadata": {},
     "output_type": "execute_result"
    }
   ],
   "source": [
    "conditions.cat.categories.values"
   ]
  },
  {
   "cell_type": "markdown",
   "id": "8ad32e33-2384-4a01-9c0e-5bd402ffcf0b",
   "metadata": {},
   "source": [
    "### Latent dose response"
   ]
  },
  {
   "cell_type": "code",
   "execution_count": 37,
   "id": "19d41701-6a46-4c7a-93a3-f33219bd30a9",
   "metadata": {},
   "outputs": [
    {
     "data": {
      "image/png": "[encoded data removed]",
      "text/plain": [
       "<Figure size 640x480 with 1 Axes>"
      ]
     },
     "metadata": {},
     "output_type": "display_data"
    },
    {
     "data": {
      "text/plain": [
       "<ggplot: (8786280933238)>"
      ]
     },
     "execution_count": 37,
     "metadata": {},
     "output_type": "execute_result"
    }
   ],
   "source": [
    "plot_df = (\n",
    "    pd.DataFrame(embeds_pca, columns=[\"dim1\", \"dim2\"])\n",
    "    .assign(\n",
    "        treatments=conditions.cat.categories.values\n",
    "    )\n",
    ")\n",
    "\n",
    "fig = (\n",
    "    p9.ggplot(plot_df, p9.aes(xend=\"dim1\", yend=\"dim2\", color=\"treatments\"))\n",
    "#     + p9.geom_point()\n",
    "    + p9.geom_segment(x=0.0, y=0.0)\n",
    "#     + p9.geom_segment(x=0.0, y=0.0)\n",
    "    + p9.geom_text(p9.aes(x=\"dim1\", y=\"dim2\", label=\"treatments\"), inherit_aes=False)\n",
    "    + p9.theme(legend_position=\"none\")\n",
    ")\n",
    "fig"
   ]
  },
  {
   "cell_type": "code",
   "execution_count": 38,
   "id": "cef8ab87-b5d9-45cf-895f-d7a7d55e6b34",
   "metadata": {},
   "outputs": [
    {
     "data": {
      "image/png": "[encoded data removed]",
      "text/plain": [
       "<Figure size 288x288 with 6 Axes>"
      ]
     },
     "metadata": {
      "needs_background": "light"
     },
     "output_type": "display_data"
    }
   ],
   "source": [
    "plot_similarity(\n",
    "    embeds,\n",
    "    labels=conditions.cat.categories.values,\n",
    "    fontsize=15,\n",
    "#     file_name=file_name_similarity\n",
    ")"
   ]
  },
  {
   "cell_type": "code",
   "execution_count": 28,
   "id": "de46efcf-d1b3-441b-a27a-48f89f9e91f3",
   "metadata": {},
   "outputs": [
    {
     "ename": "NameError",
     "evalue": "name 'emd_unst' is not defined",
     "output_type": "error",
     "traceback": [
      "\u001b[0;31m---------------------------------------------------------------------------\u001b[0m",
      "\u001b[0;31mNameError\u001b[0m                                 Traceback (most recent call last)",
      "\u001b[0;32m/tmp/ipykernel_29662/2075037639.py\u001b[0m in \u001b[0;36m<module>\u001b[0;34m\u001b[0m\n\u001b[0;32m----> 1\u001b[0;31m \u001b[0memd_unst\u001b[0m\u001b[0;34m\u001b[0m\u001b[0;34m\u001b[0m\u001b[0m\n\u001b[0m",
      "\u001b[0;31mNameError\u001b[0m: name 'emd_unst' is not defined"
     ]
    }
   ],
   "source": [
    "emd_unst"
   ]
  },
  {
   "cell_type": "markdown",
   "id": "c980c2b3-3e9d-482b-84d3-93b1c612d76e",
   "metadata": {},
   "source": [
    "### Basic predictions"
   ]
  },
  {
   "cell_type": "code",
   "execution_count": 66,
   "id": "42a984f9-eedc-4be3-93a4-d6a1945cd913",
   "metadata": {},
   "outputs": [],
   "source": [
    "counterfactual_adata = dataset[dataset.obs.split == \"train\"].copy()\n",
    "\n",
    "counterfactual_treatments = np.zeros_like(counterfactual_adata.obsm[\"treatments\"])\n",
    "counterfactual_treatments[:, 0] = 1.\n",
    "\n",
    "counterfactual_cts = np.zeros_like(counterfactual_adata.obs.cell_type_scvi)\n",
    "\n",
    "counterfactual_adata.obs.cell_type_scvi = counterfactual_cts\n",
    "counterfactual_adata.obsm[\"treatments\"] = counterfactual_treatments"
   ]
  },
  {
   "cell_type": "code",
   "execution_count": 67,
   "id": "1b79da9a-44ce-4dea-bb51-153bc80353a8",
   "metadata": {},
   "outputs": [
    {
     "name": "stderr",
     "output_type": "stream",
     "text": [
      "/data/yosef2/users/pierreboyeau/scvi-tools/scvi/model/base/_base_model.py:149: UserWarning: Make sure the registered X field in anndata contains unnormalized count data.\n"
     ]
    },
    {
     "ename": "AttributeError",
     "evalue": "'AnnData' object has no attribute 'ndim'",
     "output_type": "error",
     "traceback": [
      "\u001b[0;31m---------------------------------------------------------------------------\u001b[0m",
      "\u001b[0;31mAttributeError\u001b[0m                            Traceback (most recent call last)",
      "\u001b[0;32m/tmp/ipykernel_18367/2923744560.py\u001b[0m in \u001b[0;36m<module>\u001b[0;34m\u001b[0m\n\u001b[0;32m----> 1\u001b[0;31m \u001b[0mmodel\u001b[0m\u001b[0;34m.\u001b[0m\u001b[0mpredict\u001b[0m\u001b[0;34m(\u001b[0m\u001b[0mcounterfactual_adata\u001b[0m\u001b[0;34m)\u001b[0m\u001b[0;34m\u001b[0m\u001b[0;34m\u001b[0m\u001b[0m\n\u001b[0m",
      "\u001b[0;32m/data/yosef2/users/pierreboyeau/conda/envs/scvitools_38/lib/python3.8/site-packages/torch/autograd/grad_mode.py\u001b[0m in \u001b[0;36mdecorate_context\u001b[0;34m(*args, **kwargs)\u001b[0m\n\u001b[1;32m     26\u001b[0m         \u001b[0;32mdef\u001b[0m \u001b[0mdecorate_context\u001b[0m\u001b[0;34m(\u001b[0m\u001b[0;34m*\u001b[0m\u001b[0margs\u001b[0m\u001b[0;34m,\u001b[0m \u001b[0;34m**\u001b[0m\u001b[0mkwargs\u001b[0m\u001b[0;34m)\u001b[0m\u001b[0;34m:\u001b[0m\u001b[0;34m\u001b[0m\u001b[0;34m\u001b[0m\u001b[0m\n\u001b[1;32m     27\u001b[0m             \u001b[0;32mwith\u001b[0m \u001b[0mself\u001b[0m\u001b[0;34m.\u001b[0m\u001b[0m__class__\u001b[0m\u001b[0;34m(\u001b[0m\u001b[0;34m)\u001b[0m\u001b[0;34m:\u001b[0m\u001b[0;34m\u001b[0m\u001b[0;34m\u001b[0m\u001b[0m\n\u001b[0;32m---> 28\u001b[0;31m                 \u001b[0;32mreturn\u001b[0m \u001b[0mfunc\u001b[0m\u001b[0;34m(\u001b[0m\u001b[0;34m*\u001b[0m\u001b[0margs\u001b[0m\u001b[0;34m,\u001b[0m \u001b[0;34m**\u001b[0m\u001b[0mkwargs\u001b[0m\u001b[0;34m)\u001b[0m\u001b[0;34m\u001b[0m\u001b[0;34m\u001b[0m\u001b[0m\n\u001b[0m\u001b[1;32m     29\u001b[0m         \u001b[0;32mreturn\u001b[0m \u001b[0mcast\u001b[0m\u001b[0;34m(\u001b[0m\u001b[0mF\u001b[0m\u001b[0;34m,\u001b[0m \u001b[0mdecorate_context\u001b[0m\u001b[0;34m)\u001b[0m\u001b[0;34m\u001b[0m\u001b[0;34m\u001b[0m\u001b[0m\n\u001b[1;32m     30\u001b[0m \u001b[0;34m\u001b[0m\u001b[0m\n",
      "\u001b[0;32m/data/yosef2/users/pierreboyeau/scvi-tools/scvi/external/cpa/_model.py\u001b[0m in \u001b[0;36mpredict\u001b[0;34m(self, treatments, cell_types, adata, indices, batch_size)\u001b[0m\n\u001b[1;32m    184\u001b[0m         \u001b[0mstds\u001b[0m \u001b[0;34m=\u001b[0m \u001b[0;34m[\u001b[0m\u001b[0;34m]\u001b[0m\u001b[0;34m\u001b[0m\u001b[0;34m\u001b[0m\u001b[0m\n\u001b[1;32m    185\u001b[0m         \u001b[0;32mfor\u001b[0m \u001b[0mtensors\u001b[0m \u001b[0;32min\u001b[0m \u001b[0mscdl\u001b[0m\u001b[0;34m:\u001b[0m\u001b[0;34m\u001b[0m\u001b[0;34m\u001b[0m\u001b[0m\n\u001b[0;32m--> 186\u001b[0;31m             \u001b[0m_mus\u001b[0m\u001b[0;34m,\u001b[0m \u001b[0m_stds\u001b[0m \u001b[0;34m=\u001b[0m \u001b[0mself\u001b[0m\u001b[0;34m.\u001b[0m\u001b[0mmodule\u001b[0m\u001b[0;34m.\u001b[0m\u001b[0mget_expression\u001b[0m\u001b[0;34m(\u001b[0m\u001b[0mtensors\u001b[0m\u001b[0;34m)\u001b[0m\u001b[0;34m\u001b[0m\u001b[0;34m\u001b[0m\u001b[0m\n\u001b[0m\u001b[1;32m    187\u001b[0m             \u001b[0mmus\u001b[0m\u001b[0;34m.\u001b[0m\u001b[0mappend\u001b[0m\u001b[0;34m(\u001b[0m\u001b[0m_mus\u001b[0m\u001b[0;34m.\u001b[0m\u001b[0mcpu\u001b[0m\u001b[0;34m(\u001b[0m\u001b[0;34m)\u001b[0m\u001b[0;34m)\u001b[0m\u001b[0;34m\u001b[0m\u001b[0;34m\u001b[0m\u001b[0m\n\u001b[1;32m    188\u001b[0m             \u001b[0mstds\u001b[0m\u001b[0;34m.\u001b[0m\u001b[0mappend\u001b[0m\u001b[0;34m(\u001b[0m\u001b[0m_stds\u001b[0m\u001b[0;34m.\u001b[0m\u001b[0mcpu\u001b[0m\u001b[0;34m(\u001b[0m\u001b[0;34m)\u001b[0m\u001b[0;34m)\u001b[0m\u001b[0;34m\u001b[0m\u001b[0;34m\u001b[0m\u001b[0m\n",
      "\u001b[0;31mAttributeError\u001b[0m: 'AnnData' object has no attribute 'ndim'"
     ]
    }
   ],
   "source": [
    "model.predict(counterfactual_adata)"
   ]
  },
  {
   "cell_type": "code",
   "execution_count": null,
   "id": "91c1e75d-75d3-4334-aa7f-92e6698fe192",
   "metadata": {},
   "outputs": [],
   "source": []
  }
 ],
 "metadata": {
  "kernelspec": {
   "display_name": "Python 3 (ipykernel)",
   "language": "python",
   "name": "python3"
  },
  "language_info": {
   "codemirror_mode": {
    "name": "ipython",
    "version": 3
   },
   "file_extension": ".py",
   "mimetype": "text/x-python",
   "name": "python",
   "nbconvert_exporter": "python",
   "pygments_lexer": "ipython3",
   "version": "3.8.10"
  }
 },
 "nbformat": 4,
 "nbformat_minor": 5
}
